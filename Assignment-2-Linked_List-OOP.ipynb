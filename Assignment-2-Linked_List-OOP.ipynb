{
 "cells": [
  {
   "cell_type": "markdown",
   "id": "6c89bffd-b1dc-445c-b24d-462aedc5eb1e",
   "metadata": {},
   "source": [
    "# Assignment 2 : Implement a Linked List in Python Using OOP and Delete the Nth Node"
   ]
  },
  {
   "cell_type": "markdown",
   "id": "e53ec3d5-fb49-4503-8550-1570c8a1447b",
   "metadata": {},
   "source": [
    "### **Problem Statement**: \n",
    "Create a Python program that implements a singly linked list using Object-Oriented Programming (OOP) principles. Your implementation should include the following: A Node class to represent each node in the list. A LinkedList class to manage the nodes, with methods to: Add a node to the end of the list Print the list Delete the nth node (where n is a 1-based index) Include exception handling to manage edge cases such as: Deleting a node from an empty list Deleting a node with an index out of range Test your implementation with at least one sample list."
   ]
  },
  {
   "cell_type": "markdown",
   "id": "5f1f7fd5-bb8e-4106-b18f-b0cec14419a2",
   "metadata": {},
   "source": [
    "## Code :"
   ]
  },
  {
   "cell_type": "code",
   "execution_count": 16,
   "id": "7f2b576f-ff1b-4804-bd87-9b6bc8a92083",
   "metadata": {},
   "outputs": [
    {
     "name": "stdout",
     "output_type": "stream",
     "text": [
      "Original List:\n",
      "10 -> 20 -> 30 -> 40 -> None\n",
      "After deleting 3rd node:\n",
      "10 -> 20 -> 40 -> None\n",
      "Error: Index out of range.\n",
      "Error: Invalid index.\n"
     ]
    }
   ],
   "source": [
    "class Node:\n",
    "    def __init__(self, data):\n",
    "        self.data = data\n",
    "        self.next = None\n",
    "\n",
    "class LinkedList:\n",
    "    def __init__(self):\n",
    "        self.head = None\n",
    "\n",
    "    def append(self, data):\n",
    "        new_node = Node(data)\n",
    "        if not self.head:\n",
    "            self.head = new_node\n",
    "        else:\n",
    "            current = self.head\n",
    "            while current.next:\n",
    "                current = current.next\n",
    "            current.next = new_node\n",
    "\n",
    "    def print_list(self):\n",
    "        current = self.head\n",
    "        while current:\n",
    "            print(current.data, end=\" -> \")\n",
    "            current = current.next\n",
    "        print(\"None\")\n",
    "\n",
    "    def delete_nth_node(self, n):\n",
    "        if not self.head:\n",
    "            print(\"Error: List is empty.\")\n",
    "            return\n",
    "        if n <= 0:\n",
    "            print(\"Error: Invalid index.\")\n",
    "            return\n",
    "        if n == 1:\n",
    "            self.head = self.head.next\n",
    "            return\n",
    "        current = self.head\n",
    "        count = 1\n",
    "        while current and count < n - 1:\n",
    "            current = current.next\n",
    "            count += 1\n",
    "        if not current or not current.next:\n",
    "            print(\"Error: Index out of range.\")\n",
    "            return\n",
    "        current.next = current.next.next\n",
    "\n",
    "ll = LinkedList()\n",
    "ll.append(10)\n",
    "ll.append(20)\n",
    "ll.append(30)\n",
    "ll.append(40)\n",
    "print(\"Original List:\")\n",
    "ll.print_list()\n",
    "\n",
    "ll.delete_nth_node(3)\n",
    "print(\"After deleting 3rd node:\")\n",
    "ll.print_list()\n",
    "\n",
    "ll.delete_nth_node(10)\n",
    "ll.delete_nth_node(0)"
   ]
  }
 ],
 "metadata": {
  "kernelspec": {
   "display_name": "Python [conda env:base] *",
   "language": "python",
   "name": "conda-base-py"
  },
  "language_info": {
   "codemirror_mode": {
    "name": "ipython",
    "version": 3
   },
   "file_extension": ".py",
   "mimetype": "text/x-python",
   "name": "python",
   "nbconvert_exporter": "python",
   "pygments_lexer": "ipython3",
   "version": "3.12.7"
  }
 },
 "nbformat": 4,
 "nbformat_minor": 5
}
